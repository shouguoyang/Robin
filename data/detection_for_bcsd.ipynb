{
 "cells": [
  {
   "cell_type": "markdown",
   "id": "47478df6-81c7-4507-8288-998cb1d15a20",
   "metadata": {},
   "source": [
    "# BinXray Patch Detection on BCSD Outputs"
   ]
  },
  {
   "cell_type": "code",
   "execution_count": 17,
   "id": "6e01bb8c-459f-4d52-bb11-626841a654b2",
   "metadata": {},
   "outputs": [],
   "source": [
    "import pandas as pd\n",
    "from tqdm import tqdm\n",
    "import numpy as np\n",
    "from glob import glob\n",
    "import sys,os\n",
    "from pathlib import Path\n",
    "import csv\n",
    "import json\n",
    "from collections import defaultdict"
   ]
  },
  {
   "cell_type": "code",
   "execution_count": 2,
   "id": "02708370-debc-407d-bc63-9e880ed0c56b",
   "metadata": {},
   "outputs": [],
   "source": [
    "os.chdir(\"/home/angr/BinXray/\")"
   ]
  },
  {
   "cell_type": "markdown",
   "id": "4ef16711-2c2e-4124-8b81-8e6293785ada",
   "metadata": {},
   "source": [
    "## BinXray detection interface"
   ]
  },
  {
   "cell_type": "code",
   "execution_count": 3,
   "id": "3610e131-20cb-4b96-b7d1-7da61cab1a1d",
   "metadata": {},
   "outputs": [],
   "source": [
    "sys.path.append(\"/home/angr/BinXray/\")\n",
    "from detection_main import sim_cal_for_bcsd"
   ]
  },
  {
   "cell_type": "code",
   "execution_count": null,
   "id": "1e184158-d076-43f2-b519-1fac129d4865",
   "metadata": {},
   "outputs": [],
   "source": [
    "sim_cal_for_bcsd(\"CVE-2014-0160\", \"binaries/openssl/O2/openssl-1.0.1m\", \"dtls1_process_heartbeat\", \"dtls1_process_heartbeat\", False)"
   ]
  },
  {
   "cell_type": "code",
   "execution_count": 5,
   "id": "2c320144-cb04-4ab8-ba01-cf373eabc34d",
   "metadata": {},
   "outputs": [],
   "source": [
    "OPENSSLM_VUL_IN_CVE = {\"CVE-2015-0293\", \"CVE-2015-1788\", \"CVE-2015-1790\", \"CVE-2015-1789\", \"CVE-2015-1792\",\n",
    "                       \"CVE-2015-1791\", \"CVE-2016-2108\", \"CVE-2015-1793\", \"CVE-2015-3196\", \"CVE-2015-3195\",\n",
    "                       \"CVE-2015-3194\", \"CVE-2015-3197\", \"CVE-2016-0797\", \"CVE-2016-0702\", \"CVE-2016-0705\",\n",
    "                       \"CVE-2016-0798\", \"CVE-2016-2105\", \"CVE-2016-2106\", \"CVE-2016-2176\", \"CVE-2016-2107\",\n",
    "                       \"CVE-2016-2109\", \"CVE-2016-2182\", \"CVE-2016-6303\", \"CVE-2016-2180\", \"CVE-2016-2178\",\n",
    "                       \"CVE-2016-6306\", \"CVE-2016-2181\", \"CVE-2016-2179\", \"CVE-2016-2177\", \"CVE-2016-6304\",\n",
    "                       \"CVE-2016-6302\"}\n",
    "OPENSSL_101M_CVE_MARK = list(csv.reader(open('/home/angr/PatchDiff/data/SAFE/openssl_patch', 'r')))\n",
    "# convert OPENSSL_101M_CVE_MARK to dic\n",
    "openssl_cve_dic = {}\n",
    "for cve, func_name, mark in OPENSSL_101M_CVE_MARK:\n",
    "    openssl_cve_dic[cve] = (func_name, mark)"
   ]
  },
  {
   "cell_type": "code",
   "execution_count": 87,
   "id": "ae1a5647-2c08-4bd5-8774-f1680442806f",
   "metadata": {},
   "outputs": [],
   "source": [
    "TARGET_BIN = '/home/angr/PatchDiff/binaries/openssl/O0/openssl-1.0.1m'"
   ]
  },
  {
   "cell_type": "markdown",
   "id": "c46e7baa-4432-4291-82b7-4d0aaded81a3",
   "metadata": {},
   "source": [
    "# Gemini"
   ]
  },
  {
   "cell_type": "markdown",
   "id": "df5780e9-1314-4b52-92ae-0e72b5357016",
   "metadata": {},
   "source": [
    "## Load BCSD results"
   ]
  },
  {
   "cell_type": "code",
   "execution_count": 7,
   "id": "959e32d0-43f9-46db-b087-03464ec332c1",
   "metadata": {},
   "outputs": [],
   "source": [
    "GEMINI_result_dir = \"/home/angr/PatchDiff/data/Gemini/func_match_res/\"\n",
    "detection_res = []"
   ]
  },
  {
   "cell_type": "markdown",
   "id": "e7d06bdc-5872-4efd-9514-23a6143e576f",
   "metadata": {},
   "source": [
    "## Detecting Patch"
   ]
  },
  {
   "cell_type": "code",
   "execution_count": null,
   "id": "42192763-ee99-466a-9fe1-fcc4a805ee8a",
   "metadata": {
    "scrolled": true,
    "tags": []
   },
   "outputs": [],
   "source": [
    "visited = set()\n",
    "for cal_res in detection_res:\n",
    "    visited.add((cal_res[0], cal_res[1]))\n",
    "\n",
    "for res_file in tqdm(glob(GEMINI_result_dir + \"CVE*\")):\n",
    "    sp = res_file.split(\"+\")\n",
    "    if len(sp) ==1:\n",
    "        continue\n",
    "\n",
    "    vul_func_name = sp[1][: sp[1].rfind('_')]\n",
    "    cveid = sp[0].split(\"/\")[-1]\n",
    "    \n",
    "    \n",
    "    \n",
    "    # load res\n",
    "    res_list = json.load(open(res_file, 'r'))\n",
    "\n",
    "    # deduplication\n",
    "    pre = (0, 0)\n",
    "    new_list = []\n",
    "    for item in res_list:\n",
    "        if item != pre:\n",
    "            new_list.append(item)\n",
    "            pre = item\n",
    "\n",
    "    top50 = new_list[:50]\n",
    "\n",
    "    # # get all candidate functions\n",
    "    candidate_functions = [x[1] for x in top50]\n",
    "\n",
    "    #    :param mark: V|P|U; vulnerable, patched, unknown\n",
    "    for detect_name in candidate_functions:\n",
    "        \n",
    "        if (cveid, detect_name) in visited:\n",
    "            continue\n",
    "        try:\n",
    "            s = sim_cal_for_bcsd(cveid, TARGET_BIN, vul_func_name, detect_name, False)\n",
    "            mark = \"U\"  # vulnerability-unrelated functions\n",
    "            if vul_func_name == detect_name:\n",
    "                if cveid not in openssl_cve_dic:\n",
    "                    continue\n",
    "                mark = openssl_cve_dic[cveid][1]\n",
    "            detection_res.append((cveid, detect_name, mark, s))\n",
    "        except EOFError:\n",
    "            pass\n",
    "   "
   ]
  },
  {
   "cell_type": "code",
   "execution_count": null,
   "id": "ae75061f-a0b7-45f2-8626-97f77c43e14c",
   "metadata": {},
   "outputs": [],
   "source": []
  },
  {
   "cell_type": "code",
   "execution_count": 14,
   "id": "3350fb11-98bf-4121-8e36-0a6a5428e7bc",
   "metadata": {},
   "outputs": [
    {
     "data": {
      "text/plain": [
       "3141"
      ]
     },
     "execution_count": 14,
     "metadata": {},
     "output_type": "execute_result"
    }
   ],
   "source": [
    "len(detection_res)"
   ]
  },
  {
   "cell_type": "markdown",
   "id": "5d88297e-835b-4fa6-818d-a5ef9f7571f2",
   "metadata": {},
   "source": [
    "## FPR "
   ]
  },
  {
   "cell_type": "code",
   "execution_count": null,
   "id": "34f29e1d-3f85-43d3-abee-7e5001354074",
   "metadata": {},
   "outputs": [],
   "source": [
    "detection_res_dic"
   ]
  },
  {
   "cell_type": "markdown",
   "id": "ec31d1a0-01bd-4355-8472-0b13f62bb911",
   "metadata": {},
   "source": [
    "* Calculating the function rankings"
   ]
  },
  {
   "cell_type": "markdown",
   "id": "6ca53209-8e5e-4f73-aec7-65277823c985",
   "metadata": {},
   "source": [
    " **For the results with \"NA too much diff\" or \"NT no trace\", we set the scores to 0.**"
   ]
  },
  {
   "cell_type": "code",
   "execution_count": 41,
   "id": "a59fcca5-d503-4ee7-930e-127445719195",
   "metadata": {},
   "outputs": [],
   "source": [
    "def cal_patch_ranking(detection_res):\n",
    "    detection_res_dic = defaultdict(list)\n",
    "    for res in detection_res:\n",
    "        detection_res_dic[res[0]].append(res[1:])\n",
    "    patch_func_rank = {}\n",
    "    for cve in detection_res_dic:\n",
    "        if cve in openssl_cve_dic and openssl_cve_dic[cve][1] == 'P':\n",
    "            cve_res = detection_res_dic[cve]\n",
    "            # convert the output of binxray to score\n",
    "            for func_res in cve_res:\n",
    "                res = func_res[2]\n",
    "                if res == \"NA too much diff\":\n",
    "                    score = 0\n",
    "                elif res[0]==\"P\":\n",
    "                    if len(res) == 1:\n",
    "                        score = 1\n",
    "                    else:\n",
    "                        score= float((res.split(\" \")[1]).split(\"/\")[0])\n",
    "                elif res[0] == \"V\":\n",
    "                    if res == \"V no main changes\" or len(res) == 1:\n",
    "                        score = -1.0\n",
    "                    else:\n",
    "                        score= -1.0*float((res.split(\" \")[1]).split(\"/\")[0])\n",
    "                else:\n",
    "                    score = 0\n",
    "            # calculate the ranking of patched function\n",
    "            sorted_res = sorted(cve_res, key = lambda x:x[2], reverse=True)\n",
    "            rank = 50\n",
    "            for i, x in enumerate(sorted_res):\n",
    "                if x[1] == \"P\":\n",
    "                    rank = i\n",
    "                    break\n",
    "            patch_func_rank[cve] = rank\n",
    "    return patch_func_rank, detection_res_dic"
   ]
  },
  {
   "cell_type": "code",
   "execution_count": 43,
   "id": "3a14aa01-fd3e-4d6f-98ee-39e8a8343564",
   "metadata": {},
   "outputs": [],
   "source": [
    "ranks, res_dic = cal_patch_ranking(detection_res)"
   ]
  },
  {
   "cell_type": "code",
   "execution_count": 44,
   "id": "64a5c721-7362-4831-b77d-dd03786216e2",
   "metadata": {
    "scrolled": true,
    "tags": []
   },
   "outputs": [
    {
     "data": {
      "text/plain": [
       "{'CVE-2010-5298': 0,\n",
       " 'CVE-2014-3569': 0,\n",
       " 'CVE-2015-0204': 0,\n",
       " 'CVE-2014-3507': 0,\n",
       " 'CVE-2015-0292': 0,\n",
       " 'CVE-2014-8176': 0,\n",
       " 'CVE-2014-3572': 0,\n",
       " 'CVE-2014-3510': 0,\n",
       " 'CVE-2014-0221': 6,\n",
       " 'CVE-2013-6450': 50,\n",
       " 'CVE-2014-3505': 0,\n",
       " 'CVE-2013-4353': 0,\n",
       " 'CVE-2015-0206': 28,\n",
       " 'CVE-2014-3512': 50,\n",
       " 'CVE-2014-3567': 2,\n",
       " 'CVE-2014-3511': 0,\n",
       " 'CVE-2014-3470': 0,\n",
       " 'CVE-2014-3513': 6,\n",
       " 'CVE-2014-0224': 0,\n",
       " 'CVE-2014-0160': 3,\n",
       " 'CVE-2014-0198': 0,\n",
       " 'CVE-2014-8275': 1,\n",
       " 'CVE-2015-0205': 0,\n",
       " 'CVE-2013-0166': 17,\n",
       " 'CVE-2014-3508': 3,\n",
       " 'CVE-2013-6449': 4}"
      ]
     },
     "execution_count": 44,
     "metadata": {},
     "output_type": "execute_result"
    }
   ],
   "source": [
    "ranks"
   ]
  },
  {
   "cell_type": "code",
   "execution_count": 48,
   "id": "0806aeb2-2eec-4a5f-a356-f526f7c16859",
   "metadata": {
    "scrolled": true,
    "tags": []
   },
   "outputs": [
    {
     "data": {
      "text/plain": [
       "[('ssl3_read_bytes', 'P', 'NA too much diff'),\n",
       " ('dtls1_read_bytes', 'U', 'NA too much diff'),\n",
       " ('ec_wNAF_mul', 'U', 'NA too much diff'),\n",
       " ('do_body', 'U', 'NA too much diff'),\n",
       " ('ssl_parse_serverhello_tlsext', 'U', 'NA too much diff'),\n",
       " ('ssl2_accept', 'U', 'NA too much diff'),\n",
       " ('b64_read', 'U', 'NA too much diff'),\n",
       " ('ts_main', 'U', 'NA too much diff'),\n",
       " ('X509_NAME_oneline', 'U', 'NA too much diff'),\n",
       " ('sub_80AF5FC', 'U', 'NA too much diff'),\n",
       " ('OCSP_sendreq_nbio', 'U', 'NA too much diff'),\n",
       " ('sv_body', 'U', 'NA too much diff'),\n",
       " ('engine_main', 'U', 'NA too much diff'),\n",
       " ('d2i_SSL_SESSION', 'U', 'NA too much diff'),\n",
       " ('parseArgs', 'U', 'NA too much diff'),\n",
       " ('SSL_SESSION_print', 'U', 'NA too much diff'),\n",
       " ('ecparam_main', 'U', 'NA too much diff'),\n",
       " ('ssl23_get_client_hello', 'U', 'NA too much diff'),\n",
       " ('do_name_ex', 'U', 'NA too much diff'),\n",
       " ('enc_main', 'U', 'NA too much diff'),\n",
       " ('OBJ_obj2txt', 'U', 'NA too much diff'),\n",
       " ('EVP_BytesToKey', 'U', 'NA too much diff'),\n",
       " ('dtls1_do_write', 'U', 'NA too much diff'),\n",
       " ('ssl_add_clienthello_tlsext', 'U', 'NA too much diff'),\n",
       " ('EVP_DecodeUpdate', 'U', 'NA too much diff'),\n",
       " ('ssl_parse_clienthello_tlsext', 'U', 'NA too much diff'),\n",
       " ('rand_main', 'U', 'NA too much diff'),\n",
       " ('str_copy', 'U', 'NA too much diff'),\n",
       " ('conn_state', 'U', 'NA too much diff'),\n",
       " ('bn_mul_comba8', 'U', 'NA too much diff'),\n",
       " ('bn_sqr_comba8', 'U', 'NA too much diff'),\n",
       " ('crl_main', 'U', 'NA too much diff'),\n",
       " ('prompt_info', 'U', 'NA too much diff'),\n",
       " ('a2i_ASN1_STRING', 'U', 'NA too much diff'),\n",
       " ('a2d_ASN1_OBJECT', 'U', 'NA too much diff'),\n",
       " ('ssl23_client_hello', 'U', 'NA too much diff'),\n",
       " ('ssl2_connect', 'U', 'NA too much diff'),\n",
       " ('RAND_poll', 'U', 'NA too much diff'),\n",
       " ('rsautl_main', 'U', 'NA too much diff'),\n",
       " ('BN_mod_exp2_mont', 'U', 'NA too much diff'),\n",
       " ('a2i_ASN1_INTEGER', 'U', 'NA too much diff'),\n",
       " ('pkcs8_main', 'U', 'NA too much diff'),\n",
       " ('mime_parse_hdr', 'U', 'NA too much diff'),\n",
       " ('rsa_main', 'U', 'NA too much diff'),\n",
       " ('pkey_main', 'U', 'NA too much diff'),\n",
       " ('do_buf', 'U', 'NA too much diff'),\n",
       " ('BN_div', 'U', 'NA too much diff'),\n",
       " ('passwd_main', 'U', 'NA too much diff'),\n",
       " ('gendsa_main', 'U', 'NA too much diff'),\n",
       " ('spkac_main', 'U', 'NA too much diff')]"
      ]
     },
     "execution_count": 48,
     "metadata": {},
     "output_type": "execute_result"
    }
   ],
   "source": [
    "res_dic[\"CVE-2010-5298\"]"
   ]
  },
  {
   "cell_type": "code",
   "execution_count": 80,
   "id": "c3a63071-7439-4fda-8446-57d8b34a25cb",
   "metadata": {},
   "outputs": [],
   "source": [
    "def FPR_AT_TopN(n, ranks):\n",
    "    Top_N=n\n",
    "    num_fp = 0\n",
    "    for cve, rank in ranks.items():\n",
    "        if rank<Top_N:\n",
    "            num_fp +=1\n",
    "    return num_fp/len(ranks)"
   ]
  },
  {
   "cell_type": "code",
   "execution_count": 81,
   "id": "a8af1e2e-0d3d-4a67-afed-49f9982265d1",
   "metadata": {},
   "outputs": [
    {
     "data": {
      "text/plain": [
       "(0.5769230769230769,\n",
       " 0.7692307692307693,\n",
       " 0.8461538461538461,\n",
       " 0.8846153846153846)"
      ]
     },
     "execution_count": 81,
     "metadata": {},
     "output_type": "execute_result"
    }
   ],
   "source": [
    "FPR_AT_TopN(1, ranks),FPR_AT_TopN(5, ranks),FPR_AT_TopN(10, ranks),FPR_AT_TopN(20, ranks)"
   ]
  },
  {
   "cell_type": "markdown",
   "id": "b56e4d79-965f-49cf-a846-26da1629d2b1",
   "metadata": {},
   "source": [
    "# Bingo"
   ]
  },
  {
   "cell_type": "markdown",
   "id": "23752959-137c-4070-a9b0-c413c182ed09",
   "metadata": {},
   "source": [
    "## Load results"
   ]
  },
  {
   "cell_type": "code",
   "execution_count": 57,
   "id": "08f75a7e-3e0a-4d91-a891-7ec25c421f9a",
   "metadata": {},
   "outputs": [],
   "source": [
    "Bingo_RES_DIR = '/home/angr/bingo/results'\n",
    "detection_res_for_bingo = []\n",
    "map_dic = {}\n",
    "with open('/home/angr/bingo/cve_func_bin.txt', 'r') as f:\n",
    "    for l in f.readlines():\n",
    "        l = l.strip()\n",
    "        cve, func, bin = l.split(\" \")\n",
    "        map_dic[(func, bin)] = cve"
   ]
  },
  {
   "cell_type": "markdown",
   "id": "6f6cf7c9-7d2a-4e71-9bc4-8ac35cd60f3c",
   "metadata": {},
   "source": [
    "## Detecting Patch"
   ]
  },
  {
   "cell_type": "code",
   "execution_count": null,
   "id": "7daaee3b-c6a7-462d-92bd-5cd19bb418b1",
   "metadata": {
    "scrolled": true,
    "tags": []
   },
   "outputs": [],
   "source": [
    "visited = set()\n",
    "for cal_res in detection_res_for_bingo:\n",
    "    visited.add((cal_res[0], cal_res[1]))\n",
    "\n",
    "for res_file in tqdm(glob(Bingo_RES_DIR + \"/*.bak.test\")):\n",
    "    res_file = os.path.basename(res_file)\n",
    "    print(res_file)\n",
    "    sp = res_file.split(\"+\")\n",
    "    ssp = sp[1].split(\"_vs_\")\n",
    "    vul_func_name = ssp[0]\n",
    "    ssp[1] = ssp[1].replace('.bak','')\n",
    "    # TARGET_BIN = os.path.join(\"/home/angr/PatchDiff/binaries/openssl/O0\", ssp[1][:-5])\n",
    "    bin = sp[0]\n",
    "    if (vul_func_name, bin) not in map_dic:\n",
    "        continue\n",
    "    cveid = map_dic[(vul_func_name, bin)]\n",
    "    # load res\n",
    "    with open(os.path.join(Bingo_RES_DIR, res_file), 'r') as f:\n",
    "        top50_funcs = f.readlines()[1:51]\n",
    "\n",
    "    for func_score in top50_funcs:\n",
    "        detect_name = func_score.strip().split(\":\")[0]\n",
    "        if (cveid, detect_name) in visited:\n",
    "            continue\n",
    "        try:\n",
    "            s = sim_cal_for_bcsd(cveid, TARGET_BIN, vul_func_name, detect_name, False)\n",
    "            mark = \"U\"  # 不是漏洞函数也不是补丁函数，无关函数\n",
    "            if vul_func_name == detect_name:\n",
    "                if cveid not in openssl_cve_dic:\n",
    "                    continue\n",
    "                mark = openssl_cve_dic[cveid][1]\n",
    "            detection_res_for_bingo.append((cveid, detect_name, mark, s))\n",
    "        except EOFError:\n",
    "            pass"
   ]
  },
  {
   "cell_type": "code",
   "execution_count": null,
   "id": "3b594da7-bc43-45bb-ac18-6261c42e345a",
   "metadata": {
    "scrolled": true,
    "tags": []
   },
   "outputs": [],
   "source": [
    "detection_res_for_bingo[0:10]"
   ]
  },
  {
   "cell_type": "markdown",
   "id": "34db3056-1698-4782-b8c2-bd677d057603",
   "metadata": {},
   "source": [
    "## FPR"
   ]
  },
  {
   "cell_type": "code",
   "execution_count": 91,
   "id": "d8c57279-90f6-413f-961f-f964984de6d1",
   "metadata": {},
   "outputs": [],
   "source": [
    "ranks_for_bingo, res_dic_for_bingo = cal_patch_ranking(detection_res_for_bingo)"
   ]
  },
  {
   "cell_type": "code",
   "execution_count": 92,
   "id": "49445a02-44d0-4d18-b6b0-34c64faf3caf",
   "metadata": {},
   "outputs": [
    {
     "data": {
      "text/plain": [
       "(0.5416666666666666,\n",
       " 0.7916666666666666,\n",
       " 0.8333333333333334,\n",
       " 0.9166666666666666)"
      ]
     },
     "execution_count": 92,
     "metadata": {},
     "output_type": "execute_result"
    }
   ],
   "source": [
    "FPR_AT_TopN(1, ranks_for_bingo),FPR_AT_TopN(5, ranks_for_bingo),FPR_AT_TopN(10, ranks_for_bingo),FPR_AT_TopN(20, ranks_for_bingo)"
   ]
  },
  {
   "cell_type": "markdown",
   "id": "ad947f5d-002b-4f67-a07b-d9f24a0e2e98",
   "metadata": {},
   "source": [
    "# SAFE"
   ]
  },
  {
   "cell_type": "markdown",
   "id": "2ead1f20-8a42-42c4-8c02-84675f7c9842",
   "metadata": {},
   "source": [
    "## Load Results"
   ]
  },
  {
   "cell_type": "code",
   "execution_count": 67,
   "id": "b0498fd7-a8dd-4235-889b-61810615d5c0",
   "metadata": {},
   "outputs": [],
   "source": [
    "SAFE_RES_DIR = '/home/angr/BinXray/binaries/openssl/O0/res-0427'\n",
    "detection_res_for_safe = []"
   ]
  },
  {
   "cell_type": "markdown",
   "id": "babf1d7f-7ad6-415b-8e8c-722addf56d23",
   "metadata": {},
   "source": [
    "## Detecting Patch"
   ]
  },
  {
   "cell_type": "code",
   "execution_count": null,
   "id": "4bfd54a5-2a5c-4f82-9489-d1d9c81ca102",
   "metadata": {
    "scrolled": true,
    "tags": []
   },
   "outputs": [],
   "source": [
    "visited = set()\n",
    "for cal_res in detection_res_for_safe:\n",
    "    visited.add((cal_res[0], cal_res[1]))\n",
    "\n",
    "for res_file in tqdm(glob(SAFE_RES_DIR + \"/*.res\")):\n",
    "    \n",
    "    if \"CVE-2014-0160\" in res_file or \"CVE-2015-1789\" in res_file: # execution stucks for this\n",
    "        continue\n",
    "        \n",
    "    sp = os.path.basename(res_file).split(\"+\")\n",
    "    print(\"Detecting patch for \"+ res_file)\n",
    "    # vul_func_name = sp[1].replace(\"_openssl101m.res\", \"\")\n",
    "    vul_func_name = sp[1][: sp[1].rfind('_')]\n",
    "    cveid = sp[0]\n",
    "\n",
    "    # load res\n",
    "    res_list = json.load(open(os.path.join(SAFE_RES_DIR, res_file), 'r'))\n",
    "\n",
    "    # deduplication\n",
    "    pre = (0, 0)\n",
    "    new_list = []\n",
    "    for item in res_list:\n",
    "        if item != pre:\n",
    "            new_list.append(item)\n",
    "            pre = item\n",
    "\n",
    "    top50 = new_list[:50]\n",
    "\n",
    "    # # get all candidate functions\n",
    "    candidate_functions = [x[0] for x in top50]\n",
    "\n",
    "\n",
    "    #    :param mark: V|P|U; vulnerable, patched, unknown\n",
    "    for detect_name in candidate_functions:\n",
    "        if (cveid, detect_name) in visited:\n",
    "            continue\n",
    "        try:\n",
    "            s = sim_cal_for_bcsd(cveid, TARGET_BIN, vul_func_name, detect_name, False)\n",
    "            mark = \"U\"  # 不是漏洞函数也不是补丁函数，无关函数\n",
    "            if vul_func_name == detect_name:\n",
    "                if cveid not in openssl_cve_dic:\n",
    "                    continue\n",
    "                mark = openssl_cve_dic[cveid][1]\n",
    "            detection_res_for_safe.append((cveid, detect_name, mark, s))\n",
    "        except EOFError:\n",
    "            pass"
   ]
  },
  {
   "cell_type": "code",
   "execution_count": 112,
   "id": "5ac0b34f-8a93-4ac7-be53-995d23a3f249",
   "metadata": {},
   "outputs": [],
   "source": [
    "df_safe_res = pd.DataFrame(detection_res_for_safe, columns=[\"CVE\", \"Function\", \"Label\", \"BinXray Output\"])"
   ]
  },
  {
   "cell_type": "code",
   "execution_count": 115,
   "id": "4d424562-b3bf-44c2-8409-72802781cf58",
   "metadata": {},
   "outputs": [
    {
     "data": {
      "text/html": [
       "<div>\n",
       "<style scoped>\n",
       "    .dataframe tbody tr th:only-of-type {\n",
       "        vertical-align: middle;\n",
       "    }\n",
       "\n",
       "    .dataframe tbody tr th {\n",
       "        vertical-align: top;\n",
       "    }\n",
       "\n",
       "    .dataframe thead th {\n",
       "        text-align: right;\n",
       "    }\n",
       "</style>\n",
       "<table border=\"1\" class=\"dataframe\">\n",
       "  <thead>\n",
       "    <tr style=\"text-align: right;\">\n",
       "      <th></th>\n",
       "      <th>CVE</th>\n",
       "      <th>Function</th>\n",
       "      <th>Label</th>\n",
       "      <th>BinXray Output</th>\n",
       "    </tr>\n",
       "  </thead>\n",
       "  <tbody>\n",
       "    <tr>\n",
       "      <th>1001</th>\n",
       "      <td>CVE-2010-5298</td>\n",
       "      <td>check_policy</td>\n",
       "      <td>U</td>\n",
       "      <td>NA too much diff</td>\n",
       "    </tr>\n",
       "    <tr>\n",
       "      <th>1777</th>\n",
       "      <td>CVE-2016-6304</td>\n",
       "      <td>CRYPTO_ofb128_encrypt</td>\n",
       "      <td>U</td>\n",
       "      <td>NA too much diff</td>\n",
       "    </tr>\n",
       "    <tr>\n",
       "      <th>1812</th>\n",
       "      <td>CVE-2014-0195</td>\n",
       "      <td>BN_nist_mod_384</td>\n",
       "      <td>U</td>\n",
       "      <td>NA too much diff</td>\n",
       "    </tr>\n",
       "    <tr>\n",
       "      <th>853</th>\n",
       "      <td>CVE-2014-3508</td>\n",
       "      <td>ssl23_get_server_hello</td>\n",
       "      <td>U</td>\n",
       "      <td>NA too much diff</td>\n",
       "    </tr>\n",
       "    <tr>\n",
       "      <th>2412</th>\n",
       "      <td>CVE-2015-0204</td>\n",
       "      <td>asn1_item_print_ctx</td>\n",
       "      <td>U</td>\n",
       "      <td>NA too much diff</td>\n",
       "    </tr>\n",
       "    <tr>\n",
       "      <th>1500</th>\n",
       "      <td>CVE-2016-6306</td>\n",
       "      <td>ssl_parse_clienthello_renegotiate_ext</td>\n",
       "      <td>U</td>\n",
       "      <td>C can't tell</td>\n",
       "    </tr>\n",
       "    <tr>\n",
       "      <th>841</th>\n",
       "      <td>CVE-2016-2182</td>\n",
       "      <td>hash_step</td>\n",
       "      <td>U</td>\n",
       "      <td>NT no trace</td>\n",
       "    </tr>\n",
       "    <tr>\n",
       "      <th>952</th>\n",
       "      <td>CVE-2014-3513</td>\n",
       "      <td>gost_imit_final</td>\n",
       "      <td>U</td>\n",
       "      <td>V 0.3667711598746082/0.2818029372319928 11/11</td>\n",
       "    </tr>\n",
       "    <tr>\n",
       "      <th>437</th>\n",
       "      <td>CVE-2014-3569</td>\n",
       "      <td>ssl_get_prev_session</td>\n",
       "      <td>U</td>\n",
       "      <td>NA too much diff</td>\n",
       "    </tr>\n",
       "    <tr>\n",
       "      <th>1991</th>\n",
       "      <td>CVE-2016-2176</td>\n",
       "      <td>b64_read</td>\n",
       "      <td>U</td>\n",
       "      <td>NA too much diff</td>\n",
       "    </tr>\n",
       "    <tr>\n",
       "      <th>1163</th>\n",
       "      <td>CVE-2016-0704</td>\n",
       "      <td>compute_wNAF</td>\n",
       "      <td>U</td>\n",
       "      <td>NA too much diff</td>\n",
       "    </tr>\n",
       "    <tr>\n",
       "      <th>2177</th>\n",
       "      <td>CVE-2014-0221</td>\n",
       "      <td>int_TS_RESP_verify_token</td>\n",
       "      <td>U</td>\n",
       "      <td>NT no trace</td>\n",
       "    </tr>\n",
       "    <tr>\n",
       "      <th>2358</th>\n",
       "      <td>CVE-2015-1793</td>\n",
       "      <td>dynamic_load</td>\n",
       "      <td>U</td>\n",
       "      <td>NA too much diff</td>\n",
       "    </tr>\n",
       "    <tr>\n",
       "      <th>2581</th>\n",
       "      <td>CVE-2015-1791</td>\n",
       "      <td>ssl_parse_clienthello_renegotiate_ext</td>\n",
       "      <td>U</td>\n",
       "      <td>NT no trace</td>\n",
       "    </tr>\n",
       "    <tr>\n",
       "      <th>968</th>\n",
       "      <td>CVE-2014-3513</td>\n",
       "      <td>d2i_ASN1_BOOLEAN</td>\n",
       "      <td>U</td>\n",
       "      <td>V 0.29347826086956524/0.21318543944402069 10/10</td>\n",
       "    </tr>\n",
       "    <tr>\n",
       "      <th>514</th>\n",
       "      <td>CVE-2015-0289</td>\n",
       "      <td>asn1_collate_primitive</td>\n",
       "      <td>U</td>\n",
       "      <td>NA too much diff</td>\n",
       "    </tr>\n",
       "    <tr>\n",
       "      <th>58</th>\n",
       "      <td>CVE-2015-1788</td>\n",
       "      <td>sk_dup</td>\n",
       "      <td>U</td>\n",
       "      <td>NA too much diff</td>\n",
       "    </tr>\n",
       "    <tr>\n",
       "      <th>1878</th>\n",
       "      <td>CVE-2016-0702</td>\n",
       "      <td>ssl3_put_cipher_by_char</td>\n",
       "      <td>U</td>\n",
       "      <td>NT no trace</td>\n",
       "    </tr>\n",
       "    <tr>\n",
       "      <th>510</th>\n",
       "      <td>CVE-2015-0289</td>\n",
       "      <td>make_ocsp_response</td>\n",
       "      <td>U</td>\n",
       "      <td>NA too much diff</td>\n",
       "    </tr>\n",
       "    <tr>\n",
       "      <th>693</th>\n",
       "      <td>CVE-2013-0166</td>\n",
       "      <td>compute_wNAF</td>\n",
       "      <td>U</td>\n",
       "      <td>NA too much diff</td>\n",
       "    </tr>\n",
       "  </tbody>\n",
       "</table>\n",
       "</div>"
      ],
      "text/plain": [
       "                CVE                               Function Label  \\\n",
       "1001  CVE-2010-5298                           check_policy     U   \n",
       "1777  CVE-2016-6304                  CRYPTO_ofb128_encrypt     U   \n",
       "1812  CVE-2014-0195                        BN_nist_mod_384     U   \n",
       "853   CVE-2014-3508                 ssl23_get_server_hello     U   \n",
       "2412  CVE-2015-0204                    asn1_item_print_ctx     U   \n",
       "1500  CVE-2016-6306  ssl_parse_clienthello_renegotiate_ext     U   \n",
       "841   CVE-2016-2182                              hash_step     U   \n",
       "952   CVE-2014-3513                        gost_imit_final     U   \n",
       "437   CVE-2014-3569                   ssl_get_prev_session     U   \n",
       "1991  CVE-2016-2176                               b64_read     U   \n",
       "1163  CVE-2016-0704                           compute_wNAF     U   \n",
       "2177  CVE-2014-0221               int_TS_RESP_verify_token     U   \n",
       "2358  CVE-2015-1793                           dynamic_load     U   \n",
       "2581  CVE-2015-1791  ssl_parse_clienthello_renegotiate_ext     U   \n",
       "968   CVE-2014-3513                       d2i_ASN1_BOOLEAN     U   \n",
       "514   CVE-2015-0289                 asn1_collate_primitive     U   \n",
       "58    CVE-2015-1788                                 sk_dup     U   \n",
       "1878  CVE-2016-0702                ssl3_put_cipher_by_char     U   \n",
       "510   CVE-2015-0289                     make_ocsp_response     U   \n",
       "693   CVE-2013-0166                           compute_wNAF     U   \n",
       "\n",
       "                                       BinXray Output  \n",
       "1001                                 NA too much diff  \n",
       "1777                                 NA too much diff  \n",
       "1812                                 NA too much diff  \n",
       "853                                  NA too much diff  \n",
       "2412                                 NA too much diff  \n",
       "1500                                     C can't tell  \n",
       "841                                       NT no trace  \n",
       "952     V 0.3667711598746082/0.2818029372319928 11/11  \n",
       "437                                  NA too much diff  \n",
       "1991                                 NA too much diff  \n",
       "1163                                 NA too much diff  \n",
       "2177                                      NT no trace  \n",
       "2358                                 NA too much diff  \n",
       "2581                                      NT no trace  \n",
       "968   V 0.29347826086956524/0.21318543944402069 10/10  \n",
       "514                                  NA too much diff  \n",
       "58                                   NA too much diff  \n",
       "1878                                      NT no trace  \n",
       "510                                  NA too much diff  \n",
       "693                                  NA too much diff  "
      ]
     },
     "execution_count": 115,
     "metadata": {},
     "output_type": "execute_result"
    }
   ],
   "source": [
    "df_safe_res.sample(20)"
   ]
  },
  {
   "cell_type": "markdown",
   "id": "8e9d7d7c-565f-4360-b487-185ce30de6d7",
   "metadata": {},
   "source": [
    "## FPR"
   ]
  },
  {
   "cell_type": "code",
   "execution_count": 116,
   "id": "7c3b5b56-4e50-45bd-8337-57ff7328547e",
   "metadata": {},
   "outputs": [],
   "source": [
    "ranks_for_safe, res_dic_for_safe = cal_patch_ranking(detection_res_for_safe)"
   ]
  },
  {
   "cell_type": "code",
   "execution_count": 117,
   "id": "48c263fc-271b-48e6-8626-3a3948bc01fb",
   "metadata": {},
   "outputs": [
    {
     "data": {
      "text/plain": [
       "(0.46153846153846156,\n",
       " 0.6538461538461539,\n",
       " 0.7692307692307693,\n",
       " 0.8076923076923077)"
      ]
     },
     "execution_count": 117,
     "metadata": {},
     "output_type": "execute_result"
    }
   ],
   "source": [
    "FPR_AT_TopN(1, ranks_for_safe),FPR_AT_TopN(5, ranks_for_safe),FPR_AT_TopN(10, ranks_for_safe),FPR_AT_TopN(20, ranks_for_safe)"
   ]
  }
 ],
 "metadata": {
  "kernelspec": {
   "display_name": "Python 3 (ipykernel)",
   "language": "python",
   "name": "python3"
  },
  "language_info": {
   "codemirror_mode": {
    "name": "ipython",
    "version": 3
   },
   "file_extension": ".py",
   "mimetype": "text/x-python",
   "name": "python",
   "nbconvert_exporter": "python",
   "pygments_lexer": "ipython3",
   "version": "3.7.10"
  }
 },
 "nbformat": 4,
 "nbformat_minor": 5
}
